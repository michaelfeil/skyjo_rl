{
 "cells": [
  {
   "cell_type": "code",
   "execution_count": 1,
   "metadata": {},
   "outputs": [],
   "source": [
    "%load_ext line_profiler"
   ]
  },
  {
   "cell_type": "code",
   "execution_count": 2,
   "metadata": {},
   "outputs": [],
   "source": [
    "from rlskyjo.game import skyjo\n",
    "from rlskyjo.game import sample_game\n",
    "sample_game.sample_run(1)"
   ]
  },
  {
   "cell_type": "code",
   "execution_count": 6,
   "metadata": {},
   "outputs": [
    {
     "name": "stdout",
     "output_type": "stream",
     "text": [
      "Timer unit: 1e-06 s\n",
      "\n",
      "Total time: 0.293222 s\n",
      "File: /home/michi/skybo_rl/rlskyjo/game/skyjo.py\n",
      "Function: collect_observation at line 130\n",
      "\n",
      "Line #      Hits         Time  Per Hit   % Time  Line Contents\n",
      "==============================================================\n",
      "   130                                               def collect_observation(self, player_id: int) -> Tuple[np.array, np.array]:\n",
      "   131                                           \n",
      "   132                                                   # get global stats\n",
      "   133      7388       2690.0      0.4      0.9          (\n",
      "   134      7388       2393.0      0.3      0.8              stats_counts,\n",
      "   135      7388       2176.0      0.3      0.7              cards_sum,\n",
      "   136      7388       2052.0      0.3      0.7              n_hidden,\n",
      "   137      7388       2298.0      0.3      0.8              top_discard,\n",
      "   138     14776      51290.0      3.5     17.5          ) = self._jit_observe_global_game_stats(\n",
      "   139      7388       2765.0      0.4      0.9              self.players_cards,\n",
      "   140      7388       2323.0      0.3      0.8              self.players_masked,\n",
      "   141      7388      13169.0      1.8      4.5              np.array(self.discard_pile, dtype=self.players_cards.dtype),\n",
      "   142      7388       3086.0      0.4      1.1              count_players_cards= not self.observe_other_player_indirect,\n",
      "   143                                                   )\n",
      "   144                                           \n",
      "   145                                                   # get player observation\n",
      "   146      7388       2683.0      0.4      0.9          if self.observe_other_player_indirect:\n",
      "   147                                                       # observe only self\n",
      "   148                                                       player_obs = self._jit_known_player_cards(\n",
      "   149                                                           self.players_cards,\n",
      "   150                                                           self.players_masked,\n",
      "   151                                                           fill_unknown=self.fill_masked_unk_value,\n",
      "   152                                                           player_id=player_id,\n",
      "   153                                                       )\n",
      "   154                                                   else:\n",
      "   155     14776      17860.0      1.2      6.1              player_obs = self._jit_known_player_cards_all(\n",
      "   156      7388       2448.0      0.3      0.8                  self.players_cards,\n",
      "   157      7388       2318.0      0.3      0.8                  self.players_masked,\n",
      "   158      7388       2334.0      0.3      0.8                  fill_unknown=self.fill_masked_unk_value,\n",
      "   159      7388       2247.0      0.3      0.8                  player_id=player_id,\n",
      "   160                                                       )\n",
      "   161                                                   # concat observation\n",
      "   162     14776      22179.0      1.5      7.6          obs = np.array(\n",
      "   163                                                       (\n",
      "   164     44328      45057.0      1.0     15.4                  [min(cards_sum.min(), 127)]  # (1,)\n",
      "   165      7388      14224.0      1.9      4.9                  + [n_hidden.min()]  # (1,)\n",
      "   166      7388       2461.0      0.3      0.8                  + stats_counts  # (15,)\n",
      "   167      7388       2439.0      0.3      0.8                  + [top_discard]  # (1,)\n",
      "   168      7388       2805.0      0.4      1.0                  + [self.hand_card]  # (1,)\n",
      "   169      7388       2380.0      0.3      0.8                  + player_obs  # (12,) or (num_players * 12,)\n",
      "   170                                                       ),\n",
      "   171      7388       2649.0      0.4      0.9              dtype=self.card_dtype,\n",
      "   172                                                   )\n",
      "   173                                           \n",
      "   174      7388       4716.0      0.6      1.6          assert obs.shape == self.obs_shape, (\n",
      "   175                                                       \"unexpected observation shape\" f\"{obs.shape} expected {self.obs_shape}\"\n",
      "   176                                                   )\n",
      "   177                                           \n",
      "   178     14776      74064.0      5.0     25.3          action_mask = self._jit_action_mask(\n",
      "   179      7388       3315.0      0.4      1.1              self.players_masked, player_id, self.expected_action[1]\n",
      "   180                                                   )\n",
      "   181      7388       2801.0      0.4      1.0          return obs, action_mask"
     ]
    }
   ],
   "source": [
    "%lprun -f skyjo.SkyjoGame.collect_observation sample_game.sample_run(100)"
   ]
  },
  {
   "cell_type": "code",
   "execution_count": 4,
   "metadata": {},
   "outputs": [
    {
     "name": "stderr",
     "output_type": "stream",
     "text": [
      "UsageError: Could not find module SkyjoGame.observe_global_game_stats.\n",
      "NameError: name 'SkyjoGame' is not defined\n"
     ]
    }
   ],
   "source": [
    "%lprun -f SkyjoGame.observe_global_game_stats SkyjoGame().testrun()"
   ]
  }
 ],
 "metadata": {
  "interpreter": {
   "hash": "efd077b030826a02c156f7e1ef58cc73a0ab148da1c9194f17a0fdde773d825f"
  },
  "kernelspec": {
   "display_name": "Python 3.9.9 64-bit ('skybo': conda)",
   "language": "python",
   "name": "python3"
  },
  "language_info": {
   "codemirror_mode": {
    "name": "ipython",
    "version": 3
   },
   "file_extension": ".py",
   "mimetype": "text/x-python",
   "name": "python",
   "nbconvert_exporter": "python",
   "pygments_lexer": "ipython3",
   "version": "3.9.9"
  },
  "orig_nbformat": 4
 },
 "nbformat": 4,
 "nbformat_minor": 2
}
