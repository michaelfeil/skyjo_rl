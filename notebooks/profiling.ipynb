{
 "cells": [
  {
   "cell_type": "code",
   "execution_count": 1,
   "metadata": {},
   "outputs": [],
   "source": [
    "%load_ext line_profiler"
   ]
  },
  {
   "cell_type": "code",
   "execution_count": 1,
   "metadata": {},
   "outputs": [],
   "source": [
    "from rlskyjo.game import skyjo\n",
    "from rlskyjo.game import sample_game\n",
    "\n",
    "sample_game.sample_run(1)"
   ]
  },
  {
   "cell_type": "code",
   "execution_count": 7,
   "metadata": {},
   "outputs": [
    {
     "name": "stdout",
     "output_type": "stream",
     "text": [
      "Timer unit: 1e-06 s\n",
      "\n",
      "Total time: 0.012131 s\n",
      "File: /home/michi/skybo_rl/rlskyjo/game/skyjo.py\n",
      "Function: reset at line 53\n",
      "\n",
      "Line #      Hits         Time  Per Hit   % Time  Line Contents\n",
      "==============================================================\n",
      "    53                                               def reset(self):\n",
      "    54                                                   # 150 cards from -2 to 12\n",
      "    55       101        172.0      1.7      1.4          self.is_terminated = False\n",
      "    56                                                   # metrics\n",
      "    57       101        106.0      1.0      0.9          self.game_metrics = {\n",
      "    58       101        106.0      1.0      0.9              \"num_refunded\": [0] * self.num_players,\n",
      "    59       101         56.0      0.6      0.5              \"num_placed\": [0] * self.num_players,\n",
      "    60       101         40.0      0.4      0.3              \"final_score\": False,\n",
      "    61                                                   }\n",
      "    62       101         47.0      0.5      0.4          self.hand_card = self.fill_masked_unk_value\n",
      "    63       101       1286.0     12.7     10.6          drawpile = np.repeat(np.arange(-2, 13, dtype=self.card_dtype), 10)\n",
      "    64       101        823.0      8.1      6.8          np.random.shuffle(drawpile)\n",
      "    65       202        311.0      1.5      2.6          self.players_cards = drawpile[: 12 * self.num_players].reshape(\n",
      "    66       101         33.0      0.3      0.3              self.num_players, -1\n",
      "    67                                                   )\n",
      "    68                                           \n",
      "    69                                                   # discard_pile: first in last out\n",
      "    70       202       1080.0      5.3      8.9          self.drawpile, self.discard_pile = self._reshuffle_discard_pile(\n",
      "    71       101         65.0      0.6      0.5              drawpile[self.num_players * 12:]\n",
      "    72                                                   )\n",
      "    73                                           \n",
      "    74       101       5363.0     53.1     44.2          self.players_masked = self._reset_card_mask(self.num_players, self.card_dtype)\n",
      "    75       101       2586.0     25.6     21.3          self._reset_start_player()\n",
      "    76       101         57.0      0.6      0.5          assert self.expected_action[1] == self._name_draw, \"expect to draw after reset\""
     ]
    }
   ],
   "source": [
    "%lprun -f skyjo.SkyjoGame.reset sample_game.sample_run(100)"
   ]
  },
  {
   "cell_type": "code",
   "execution_count": 4,
   "metadata": {},
   "outputs": [
    {
     "name": "stderr",
     "output_type": "stream",
     "text": [
      "UsageError: Could not find module SkyjoGame.observe_global_game_stats.\n",
      "NameError: name 'SkyjoGame' is not defined\n"
     ]
    }
   ],
   "source": [
    "%lprun -f SkyjoGame.observe_global_game_stats SkyjoGame().testrun()"
   ]
  }
 ],
 "metadata": {
  "interpreter": {
   "hash": "efd077b030826a02c156f7e1ef58cc73a0ab148da1c9194f17a0fdde773d825f"
  },
  "kernelspec": {
   "display_name": "Python 3.9.9 64-bit ('skybo': conda)",
   "language": "python",
   "name": "python3"
  },
  "language_info": {
   "codemirror_mode": {
    "name": "ipython",
    "version": 3
   },
   "file_extension": ".py",
   "mimetype": "text/x-python",
   "name": "python",
   "nbconvert_exporter": "python",
   "pygments_lexer": "ipython3",
   "version": "3.9.9"
  },
  "orig_nbformat": 4
 },
 "nbformat": 4,
 "nbformat_minor": 2
}
